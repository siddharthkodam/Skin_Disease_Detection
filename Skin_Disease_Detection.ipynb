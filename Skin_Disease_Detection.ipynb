{
 "cells": [
  {
   "cell_type": "code",
   "execution_count": 1,
   "id": "572cdf6c",
   "metadata": {},
   "outputs": [],
   "source": [
    "import os\n",
    "import pandas as pd\n",
    "import numpy as np\n",
    "from PIL import Image, ImageOps\n",
    "import plotly.express as px\n",
    "import matplotlib.pyplot as plt\n",
    "import seaborn as sns\n",
    "import cv2\n",
    "from tqdm import tqdm\n",
    "from sklearn.model_selection import train_test_split\n",
    "import time\n",
    "import tensorflow as tf\n",
    "\n",
    "\n",
    "#Modélisation\n",
    "import keras\n",
    "from keras import layers\n",
    "from keras.models import Sequential\n",
    "from keras.layers import Dense, Activation, Dropout\n",
    "from sklearn.metrics import classification_report\n",
    "from tensorflow.keras.callbacks import EarlyStopping\n",
    "from keras.preprocessing.image import ImageDataGenerator\n",
    "import matplotlib.pyplot as plt\n",
    "import numpy as np\n",
    "import pandas as pd\n",
    "import os\n",
    "from PIL import Image\n",
    "\n",
    "import keras\n",
    "from keras.utils.np_utils import to_categorical # used for converting labels to one-hot-encoding\n",
    "from keras.models import Sequential\n",
    "from keras.layers import Dense, Dropout, Flatten, Conv2D, MaxPool2D\n",
    "from tensorflow.keras.layers import BatchNormalization\n",
    "from keras.utils.np_utils import to_categorical # convert to one-hot-encoding\n",
    "\n",
    "from keras.optimizers import Adam\n",
    "from keras.preprocessing.image import ImageDataGenerator\n",
    "from keras.callbacks import ReduceLROnPlateau\n",
    "from sklearn.model_selection import train_test_split\n"
   ]
  },
  {
   "cell_type": "code",
   "execution_count": 2,
   "id": "ccfbceb0",
   "metadata": {},
   "outputs": [
    {
     "name": "stdout",
     "output_type": "stream",
     "text": [
      "                                             image_path  label\n",
      "0     C:\\Users\\sidda\\did\\train\\Acne and Rosacea Phot...      0\n",
      "1     C:\\Users\\sidda\\did\\train\\Acne and Rosacea Phot...      0\n",
      "2     C:\\Users\\sidda\\did\\train\\Acne and Rosacea Phot...      0\n",
      "3     C:\\Users\\sidda\\did\\train\\Acne and Rosacea Phot...      0\n",
      "4     C:\\Users\\sidda\\did\\train\\Acne and Rosacea Phot...      0\n",
      "...                                                 ...    ...\n",
      "3892  C:\\Users\\sidda\\did\\train\\Warts Molluscum and o...      4\n",
      "3893  C:\\Users\\sidda\\did\\train\\Warts Molluscum and o...      4\n",
      "3894  C:\\Users\\sidda\\did\\train\\Warts Molluscum and o...      4\n",
      "3895  C:\\Users\\sidda\\did\\train\\Warts Molluscum and o...      4\n",
      "3896  C:\\Users\\sidda\\did\\train\\Warts Molluscum and o...      4\n",
      "\n",
      "[3897 rows x 2 columns]\n"
     ]
    }
   ],
   "source": [
    "import os\n",
    "import pandas as pd\n",
    "\n",
    "train_dir = 'C:\\\\Users\\\\sidda\\\\did\\\\train'\n",
    "\n",
    "# Create empty list to store data\n",
    "train_data = []\n",
    "\n",
    "# Add image paths and labels to the list\n",
    "for label, folder_name in enumerate([\"Acne and Rosacea Photos\",\"Bullous Disease Photos\",\"Cellulitis Impetigo and other Bacterial Infections\",\"Eczema Photos\",\"Warts Molluscum and other Viral Infections\"]):\n",
    "    for filename in os.listdir(os.path.join(train_dir, folder_name)):\n",
    "        image_path = os.path.join(train_dir, folder_name, filename)\n",
    "        train_data.append({'image_path': image_path, 'label': label})\n",
    "\n",
    "# Create dataframe from the list\n",
    "train_df = pd.DataFrame(train_data)\n",
    "\n",
    "# Display the dataframe\n",
    "print(train_df)\n"
   ]
  },
  {
   "cell_type": "code",
   "execution_count": 3,
   "id": "fcfc6290",
   "metadata": {},
   "outputs": [
    {
     "data": {
      "text/plain": [
       "{0: 'Acne and Rosacea Photos',\n",
       " 1: 'Bullous Disease Photos',\n",
       " 2: 'Cellulitis Impetigo and other Bacterial Infections',\n",
       " 3: 'Eczema Photos',\n",
       " 4: 'Warts Molluscum and other Viral Infections'}"
      ]
     },
     "execution_count": 3,
     "metadata": {},
     "output_type": "execute_result"
    }
   ],
   "source": [
    "# Get list of directories in train_dir\n",
    "labels = [\"Acne and Rosacea Photos\",\"Bullous Disease Photos\",\"Cellulitis Impetigo and other Bacterial Infections\",\"Eczema Photos\",\"Warts Molluscum and other Viral Infections\"]\n",
    "\n",
    "# Create label_map dictionary\n",
    "label_map = {i: label for i, label in enumerate(labels)}\n",
    "num_classes=len(label_map)\n",
    "label_map"
   ]
  },
  {
   "cell_type": "code",
   "execution_count": 4,
   "id": "98db7092",
   "metadata": {},
   "outputs": [],
   "source": [
    "df = train_df\n",
    "max_images_per_class = 3250\n",
    "\n",
    "df = df.groupby(\"label\", group_keys=False).apply(lambda x: x.head(max_images_per_class)).reset_index(drop=True)"
   ]
  },
  {
   "cell_type": "code",
   "execution_count": 5,
   "id": "d829a5be",
   "metadata": {},
   "outputs": [
    {
     "name": "stdout",
     "output_type": "stream",
     "text": [
      "[PhysicalDevice(name='/physical_device:GPU:0', device_type='GPU')]\n"
     ]
    }
   ],
   "source": [
    "import tensorflow as tf\n",
    "\n",
    "# Allow gpu usage\n",
    "gpus = tf.config.experimental.list_physical_devices('GPU')\n",
    "print(gpus)\n",
    "try:\n",
    "    tf.config.experimental.set_memory_growth = True\n",
    "except Exception as ex:\n",
    "    print(e)"
   ]
  },
  {
   "cell_type": "code",
   "execution_count": 6,
   "id": "4083debb",
   "metadata": {},
   "outputs": [
    {
     "data": {
      "text/plain": [
       "12"
      ]
     },
     "execution_count": 6,
     "metadata": {},
     "output_type": "execute_result"
    }
   ],
   "source": [
    "import multiprocessing\n",
    "\n",
    "# Get the number of CPU cores available\n",
    "max_workers = multiprocessing.cpu_count()\n",
    "max_workers"
   ]
  },
  {
   "cell_type": "code",
   "execution_count": 7,
   "id": "4641a8a1",
   "metadata": {},
   "outputs": [],
   "source": [
    "import concurrent.futures\n",
    "\n",
    "# Define a function to resize image arrays\n",
    "def resize_image_array(image_path):\n",
    "    return np.asarray(Image.open(image_path).resize((100,75)))\n",
    "\n",
    "# Use concurrent.futures to parallelize the resizing process\n",
    "with concurrent.futures.ThreadPoolExecutor(max_workers=max_workers) as executor:\n",
    "    # Use executor.map to apply the function to each image path in the DataFrame\n",
    "    image_arrays = list(executor.map(resize_image_array, df['image_path'].tolist()))\n",
    "\n",
    "# Add the resized image arrays to the DataFrame\n",
    "df['image'] = image_arrays\n",
    "del image_arrays"
   ]
  },
  {
   "cell_type": "code",
   "execution_count": 8,
   "id": "2f25f6eb",
   "metadata": {},
   "outputs": [
    {
     "data": {
      "text/html": [
       "<div>\n",
       "<style scoped>\n",
       "    .dataframe tbody tr th:only-of-type {\n",
       "        vertical-align: middle;\n",
       "    }\n",
       "\n",
       "    .dataframe tbody tr th {\n",
       "        vertical-align: top;\n",
       "    }\n",
       "\n",
       "    .dataframe thead th {\n",
       "        text-align: right;\n",
       "    }\n",
       "</style>\n",
       "<table border=\"1\" class=\"dataframe\">\n",
       "  <thead>\n",
       "    <tr style=\"text-align: right;\">\n",
       "      <th></th>\n",
       "      <th>image_path</th>\n",
       "      <th>label</th>\n",
       "      <th>image</th>\n",
       "    </tr>\n",
       "  </thead>\n",
       "  <tbody>\n",
       "    <tr>\n",
       "      <th>0</th>\n",
       "      <td>C:\\Users\\sidda\\did\\train\\Acne and Rosacea Phot...</td>\n",
       "      <td>0</td>\n",
       "      <td>[[[160, 125, 119], [160, 125, 120], [157, 121,...</td>\n",
       "    </tr>\n",
       "    <tr>\n",
       "      <th>1</th>\n",
       "      <td>C:\\Users\\sidda\\did\\train\\Acne and Rosacea Phot...</td>\n",
       "      <td>0</td>\n",
       "      <td>[[[164, 130, 126], [159, 125, 119], [153, 120,...</td>\n",
       "    </tr>\n",
       "    <tr>\n",
       "      <th>2</th>\n",
       "      <td>C:\\Users\\sidda\\did\\train\\Acne and Rosacea Phot...</td>\n",
       "      <td>0</td>\n",
       "      <td>[[[222, 162, 158], [221, 159, 158], [217, 150,...</td>\n",
       "    </tr>\n",
       "    <tr>\n",
       "      <th>3</th>\n",
       "      <td>C:\\Users\\sidda\\did\\train\\Acne and Rosacea Phot...</td>\n",
       "      <td>0</td>\n",
       "      <td>[[[93, 68, 63], [89, 65, 58], [96, 68, 59], [1...</td>\n",
       "    </tr>\n",
       "    <tr>\n",
       "      <th>4</th>\n",
       "      <td>C:\\Users\\sidda\\did\\train\\Acne and Rosacea Phot...</td>\n",
       "      <td>0</td>\n",
       "      <td>[[[17, 12, 9], [25, 19, 16], [27, 19, 15], [19...</td>\n",
       "    </tr>\n",
       "  </tbody>\n",
       "</table>\n",
       "</div>"
      ],
      "text/plain": [
       "                                          image_path  label   \n",
       "0  C:\\Users\\sidda\\did\\train\\Acne and Rosacea Phot...      0  \\\n",
       "1  C:\\Users\\sidda\\did\\train\\Acne and Rosacea Phot...      0   \n",
       "2  C:\\Users\\sidda\\did\\train\\Acne and Rosacea Phot...      0   \n",
       "3  C:\\Users\\sidda\\did\\train\\Acne and Rosacea Phot...      0   \n",
       "4  C:\\Users\\sidda\\did\\train\\Acne and Rosacea Phot...      0   \n",
       "\n",
       "                                               image  \n",
       "0  [[[160, 125, 119], [160, 125, 120], [157, 121,...  \n",
       "1  [[[164, 130, 126], [159, 125, 119], [153, 120,...  \n",
       "2  [[[222, 162, 158], [221, 159, 158], [217, 150,...  \n",
       "3  [[[93, 68, 63], [89, 65, 58], [96, 68, 59], [1...  \n",
       "4  [[[17, 12, 9], [25, 19, 16], [27, 19, 15], [19...  "
      ]
     },
     "execution_count": 8,
     "metadata": {},
     "output_type": "execute_result"
    }
   ],
   "source": [
    "df.head()"
   ]
  },
  {
   "cell_type": "code",
   "execution_count": 9,
   "id": "0e8bcfa7",
   "metadata": {},
   "outputs": [],
   "source": [
    "from keras.preprocessing.image import ImageDataGenerator\n",
    "\n",
    "# Create an ImageDataGenerator object with the desired transformations\n",
    "datagen = ImageDataGenerator(\n",
    "    rotation_range=20,\n",
    "    width_shift_range=0.2,\n",
    "    height_shift_range=0.2,\n",
    "    shear_range=0.2,\n",
    "    zoom_range=0.2,\n",
    "    horizontal_flip=True,\n",
    "    fill_mode='nearest')"
   ]
  },
  {
   "cell_type": "code",
   "execution_count": 10,
   "id": "4f2b9442",
   "metadata": {},
   "outputs": [
    {
     "data": {
      "text/html": [
       "<div>\n",
       "<style scoped>\n",
       "    .dataframe tbody tr th:only-of-type {\n",
       "        vertical-align: middle;\n",
       "    }\n",
       "\n",
       "    .dataframe tbody tr th {\n",
       "        vertical-align: top;\n",
       "    }\n",
       "\n",
       "    .dataframe thead th {\n",
       "        text-align: right;\n",
       "    }\n",
       "</style>\n",
       "<table border=\"1\" class=\"dataframe\">\n",
       "  <thead>\n",
       "    <tr style=\"text-align: right;\">\n",
       "      <th></th>\n",
       "      <th>image_path</th>\n",
       "      <th>label</th>\n",
       "      <th>image</th>\n",
       "    </tr>\n",
       "  </thead>\n",
       "  <tbody>\n",
       "    <tr>\n",
       "      <th>0</th>\n",
       "      <td>None</td>\n",
       "      <td>0</td>\n",
       "      <td>[[[135, 106, 101], [130, 103, 100], [128, 101,...</td>\n",
       "    </tr>\n",
       "    <tr>\n",
       "      <th>1</th>\n",
       "      <td>None</td>\n",
       "      <td>4</td>\n",
       "      <td>[[[85, 41, 35], [85, 41, 35], [85, 41, 35], [8...</td>\n",
       "    </tr>\n",
       "    <tr>\n",
       "      <th>2</th>\n",
       "      <td>C:\\Users\\sidda\\did\\train\\Eczema Photos\\eczema-...</td>\n",
       "      <td>3</td>\n",
       "      <td>[[[31, 21, 21], [38, 28, 28], [42, 32, 33], [3...</td>\n",
       "    </tr>\n",
       "    <tr>\n",
       "      <th>3</th>\n",
       "      <td>None</td>\n",
       "      <td>0</td>\n",
       "      <td>[[[50, 38, 48], [49, 37, 47], [55, 42, 54], [6...</td>\n",
       "    </tr>\n",
       "    <tr>\n",
       "      <th>4</th>\n",
       "      <td>C:\\Users\\sidda\\did\\train\\Eczema Photos\\eczema-...</td>\n",
       "      <td>3</td>\n",
       "      <td>[[[21, 12, 15], [21, 12, 15], [22, 15, 17], [2...</td>\n",
       "    </tr>\n",
       "    <tr>\n",
       "      <th>...</th>\n",
       "      <td>...</td>\n",
       "      <td>...</td>\n",
       "      <td>...</td>\n",
       "    </tr>\n",
       "    <tr>\n",
       "      <th>16245</th>\n",
       "      <td>None</td>\n",
       "      <td>4</td>\n",
       "      <td>[[[207, 172, 162], [206, 170, 160], [206, 170,...</td>\n",
       "    </tr>\n",
       "    <tr>\n",
       "      <th>16246</th>\n",
       "      <td>None</td>\n",
       "      <td>1</td>\n",
       "      <td>[[[22, 22, 24], [22, 22, 24], [21, 21, 24], [2...</td>\n",
       "    </tr>\n",
       "    <tr>\n",
       "      <th>16247</th>\n",
       "      <td>None</td>\n",
       "      <td>0</td>\n",
       "      <td>[[[12, 7, 3], [14, 7, 3], [15, 7, 4], [14, 7, ...</td>\n",
       "    </tr>\n",
       "    <tr>\n",
       "      <th>16248</th>\n",
       "      <td>C:\\Users\\sidda\\did\\train\\Warts Molluscum and o...</td>\n",
       "      <td>4</td>\n",
       "      <td>[[[95, 77, 103], [99, 78, 105], [102, 78, 104]...</td>\n",
       "    </tr>\n",
       "    <tr>\n",
       "      <th>16249</th>\n",
       "      <td>None</td>\n",
       "      <td>2</td>\n",
       "      <td>[[[116, 84, 57], [115, 84, 57], [114, 83, 56],...</td>\n",
       "    </tr>\n",
       "  </tbody>\n",
       "</table>\n",
       "<p>16250 rows × 3 columns</p>\n",
       "</div>"
      ],
      "text/plain": [
       "                                              image_path  label   \n",
       "0                                                   None      0  \\\n",
       "1                                                   None      4   \n",
       "2      C:\\Users\\sidda\\did\\train\\Eczema Photos\\eczema-...      3   \n",
       "3                                                   None      0   \n",
       "4      C:\\Users\\sidda\\did\\train\\Eczema Photos\\eczema-...      3   \n",
       "...                                                  ...    ...   \n",
       "16245                                               None      4   \n",
       "16246                                               None      1   \n",
       "16247                                               None      0   \n",
       "16248  C:\\Users\\sidda\\did\\train\\Warts Molluscum and o...      4   \n",
       "16249                                               None      2   \n",
       "\n",
       "                                                   image  \n",
       "0      [[[135, 106, 101], [130, 103, 100], [128, 101,...  \n",
       "1      [[[85, 41, 35], [85, 41, 35], [85, 41, 35], [8...  \n",
       "2      [[[31, 21, 21], [38, 28, 28], [42, 32, 33], [3...  \n",
       "3      [[[50, 38, 48], [49, 37, 47], [55, 42, 54], [6...  \n",
       "4      [[[21, 12, 15], [21, 12, 15], [22, 15, 17], [2...  \n",
       "...                                                  ...  \n",
       "16245  [[[207, 172, 162], [206, 170, 160], [206, 170,...  \n",
       "16246  [[[22, 22, 24], [22, 22, 24], [21, 21, 24], [2...  \n",
       "16247  [[[12, 7, 3], [14, 7, 3], [15, 7, 4], [14, 7, ...  \n",
       "16248  [[[95, 77, 103], [99, 78, 105], [102, 78, 104]...  \n",
       "16249  [[[116, 84, 57], [115, 84, 57], [114, 83, 56],...  \n",
       "\n",
       "[16250 rows x 3 columns]"
      ]
     },
     "execution_count": 10,
     "metadata": {},
     "output_type": "execute_result"
    }
   ],
   "source": [
    "# Create an empty list to store the augmented images\n",
    "augmented_data = []\n",
    "\n",
    "# Loop through each class label and generate additional images if needed\n",
    "for class_label in df['label'].unique():\n",
    "    # Get the image arrays for the current class\n",
    "    image_arrays = df.loc[df['label'] == class_label, 'image'].values\n",
    "    \n",
    "    # Calculate the number of additional images needed for the current class\n",
    "    num_images_needed = max_images_per_class - len(image_arrays)\n",
    "    \n",
    "    # Generate augmented images for the current class\n",
    "    if num_images_needed > 0:\n",
    "        # Select a random subset of the original images\n",
    "        selected_images = np.random.choice(image_arrays, size=num_images_needed)\n",
    "        \n",
    "        # Apply transformations to the selected images and add them to the augmented data list\n",
    "        for image_array in selected_images:\n",
    "            # Reshape the image array to a 4D tensor with a batch size of 1\n",
    "            image_tensor = np.expand_dims(image_array, axis=0)\n",
    "            \n",
    "            # Generate the augmented images\n",
    "            augmented_images = datagen.flow(image_tensor, batch_size=1)\n",
    "            \n",
    "            # Extract the augmented image arrays and add them to the augmented data list\n",
    "            for i in range(augmented_images.n):\n",
    "                augmented_image_array = augmented_images.next()[0].astype('uint8')\n",
    "                augmented_data.append({'image_path': None, 'label': class_label, 'image': augmented_image_array})\n",
    "    \n",
    "    # Add the original images for the current class to the augmented data list\n",
    "    original_images_df = df.loc[df['label'] == class_label, ['image_path', 'label', 'image']]\n",
    "    augmented_data.extend(original_images_df.to_dict('records'))\n",
    "\n",
    "# Create a new DataFrame from the augmented data list\n",
    "df = pd.DataFrame(augmented_data)\n",
    "\n",
    "# Group the augmented DataFrame by the 'label' column and filter out extra images\n",
    "df = df.groupby('label').head(max_images_per_class)\n",
    "\n",
    "# Shuffle the DataFrame\n",
    "df = df.sample(frac=1, random_state=42).reset_index(drop=True)\n",
    "df"
   ]
  },
  {
   "cell_type": "code",
   "execution_count": 11,
   "id": "ffeebf8a",
   "metadata": {},
   "outputs": [],
   "source": [
    "features = df.drop(columns=['label','image_path'],axis=1)\n",
    "target = df['label']"
   ]
  },
  {
   "cell_type": "code",
   "execution_count": 12,
   "id": "ff7899a1",
   "metadata": {},
   "outputs": [
    {
     "data": {
      "text/html": [
       "<div>\n",
       "<style scoped>\n",
       "    .dataframe tbody tr th:only-of-type {\n",
       "        vertical-align: middle;\n",
       "    }\n",
       "\n",
       "    .dataframe tbody tr th {\n",
       "        vertical-align: top;\n",
       "    }\n",
       "\n",
       "    .dataframe thead th {\n",
       "        text-align: right;\n",
       "    }\n",
       "</style>\n",
       "<table border=\"1\" class=\"dataframe\">\n",
       "  <thead>\n",
       "    <tr style=\"text-align: right;\">\n",
       "      <th></th>\n",
       "      <th>image</th>\n",
       "    </tr>\n",
       "  </thead>\n",
       "  <tbody>\n",
       "    <tr>\n",
       "      <th>0</th>\n",
       "      <td>[[[135, 106, 101], [130, 103, 100], [128, 101,...</td>\n",
       "    </tr>\n",
       "    <tr>\n",
       "      <th>1</th>\n",
       "      <td>[[[85, 41, 35], [85, 41, 35], [85, 41, 35], [8...</td>\n",
       "    </tr>\n",
       "    <tr>\n",
       "      <th>2</th>\n",
       "      <td>[[[31, 21, 21], [38, 28, 28], [42, 32, 33], [3...</td>\n",
       "    </tr>\n",
       "    <tr>\n",
       "      <th>3</th>\n",
       "      <td>[[[50, 38, 48], [49, 37, 47], [55, 42, 54], [6...</td>\n",
       "    </tr>\n",
       "    <tr>\n",
       "      <th>4</th>\n",
       "      <td>[[[21, 12, 15], [21, 12, 15], [22, 15, 17], [2...</td>\n",
       "    </tr>\n",
       "  </tbody>\n",
       "</table>\n",
       "</div>"
      ],
      "text/plain": [
       "                                               image\n",
       "0  [[[135, 106, 101], [130, 103, 100], [128, 101,...\n",
       "1  [[[85, 41, 35], [85, 41, 35], [85, 41, 35], [8...\n",
       "2  [[[31, 21, 21], [38, 28, 28], [42, 32, 33], [3...\n",
       "3  [[[50, 38, 48], [49, 37, 47], [55, 42, 54], [6...\n",
       "4  [[[21, 12, 15], [21, 12, 15], [22, 15, 17], [2..."
      ]
     },
     "execution_count": 12,
     "metadata": {},
     "output_type": "execute_result"
    }
   ],
   "source": [
    "features.head()"
   ]
  },
  {
   "cell_type": "code",
   "execution_count": 13,
   "id": "461051e8",
   "metadata": {},
   "outputs": [
    {
     "data": {
      "text/plain": [
       "0    0\n",
       "1    4\n",
       "2    3\n",
       "3    0\n",
       "4    3\n",
       "Name: label, dtype: int64"
      ]
     },
     "execution_count": 13,
     "metadata": {},
     "output_type": "execute_result"
    }
   ],
   "source": [
    "target.head()"
   ]
  },
  {
   "cell_type": "code",
   "execution_count": 14,
   "id": "22b6f818",
   "metadata": {},
   "outputs": [],
   "source": [
    "x_train, x_test, y_train, y_test = train_test_split(features, target, test_size=0.20,shuffle=True)"
   ]
  },
  {
   "cell_type": "code",
   "execution_count": 15,
   "id": "8cf63072",
   "metadata": {},
   "outputs": [],
   "source": [
    "x_train = np.asarray(x_train['image'].tolist())\n",
    "x_test = np.asarray(x_test['image'].tolist())\n",
    "\n",
    "x_train_mean = np.mean(x_train)\n",
    "x_train_std = np.std(x_train)\n",
    "x_test_mean = np.mean(x_test)\n",
    "x_test_std = np.std(x_test)\n",
    "\n",
    "x_train = (x_train - x_train_mean)/x_train_std\n",
    "x_test = (x_test - x_test_mean)/x_test_std"
   ]
  },
  {
   "cell_type": "code",
   "execution_count": 16,
   "id": "d716a19a",
   "metadata": {},
   "outputs": [],
   "source": [
    "# Perform one-hot encoding on the labels\n",
    "y_train = to_categorical(y_train,num_classes = num_classes)\n",
    "y_test = to_categorical(y_test,num_classes = num_classes)"
   ]
  },
  {
   "cell_type": "code",
   "execution_count": 17,
   "id": "77fbd050",
   "metadata": {},
   "outputs": [],
   "source": [
    "x_train, x_validate, y_train, y_validate = train_test_split(x_train, y_train, test_size = 0.2,shuffle=True)"
   ]
  },
  {
   "cell_type": "code",
   "execution_count": 18,
   "id": "df157ab6",
   "metadata": {},
   "outputs": [],
   "source": [
    "# Reshape image in 3 dimensions (height = 75px, width = 100px , canal = 3)\n",
    "x_train = x_train.reshape(x_train.shape[0], *(75, 100, 3))\n",
    "x_test = x_test.reshape(x_test.shape[0], *(75, 100, 3))\n",
    "x_validate = x_validate.reshape(x_validate.shape[0], *(75, 100, 3))"
   ]
  },
  {
   "cell_type": "code",
   "execution_count": 19,
   "id": "c835f5e5",
   "metadata": {},
   "outputs": [],
   "source": [
    "y_train = y_train.astype(int)\n",
    "y_validate = y_validate.astype(int)"
   ]
  },
  {
   "cell_type": "code",
   "execution_count": 20,
   "id": "a301212d",
   "metadata": {},
   "outputs": [
    {
     "name": "stdout",
     "output_type": "stream",
     "text": [
      "Dataset Summary\n",
      "------------------------------------------------------------------------------------------\n",
      "Class Label     Class Name                     Train      Validation   Test       Total     \n",
      "------------------------------------------------------------------------------------------\n",
      "0               Acne and Rosacea Photos        2066       539          645        3250      \n",
      "1               Bullous Disease Photos         2078       524          648        3250      \n",
      "2               Cellulitis Impetigo and other Bacterial Infections 2053       512          685        3250      \n",
      "3               Eczema Photos                  2108       517          625        3250      \n",
      "4               Warts Molluscum and other Viral Infections 2095       508          647        3250      \n",
      "------------------------------------------------------------------------------------------\n",
      "Total                                          10400      2600         3250       16250     \n"
     ]
    }
   ],
   "source": [
    "# Calculate the number of images in each class for train, validation, and test datasets\n",
    "train_counts = np.sum(y_train, axis=0)\n",
    "val_counts = np.sum(y_validate, axis=0)\n",
    "test_counts = np.sum(y_test, axis=0)\n",
    "\n",
    "# Print the number of images in each class for train, validation, and test datasets\n",
    "print(\"Dataset Summary\")\n",
    "print(\"-\" * 90)\n",
    "print(f\"{'Class Label':<15} {'Class Name':<30} {'Train':<10} {'Validation':<12} {'Test':<10} {'Total':<10}\")\n",
    "print(\"-\" * 90)\n",
    "for class_label, class_name in label_map.items():\n",
    "    train_num = int(train_counts[class_label])\n",
    "    val_num = int(val_counts[class_label])\n",
    "    test_num = int(test_counts[class_label])\n",
    "    total_num = train_num + val_num + test_num\n",
    "    print(f\"{class_label:<15} {class_name:<30} {train_num:<10} {val_num:<12} {test_num:<10} {total_num:<10}\")\n",
    "print(\"-\" * 90)\n",
    "print(f\"{'Total':<46} {len(y_train):<10} {len(y_validate):<12} {len(y_test):<10} {len(y_train) + len(y_validate) + len(y_test):<10}\")"
   ]
  },
  {
   "cell_type": "code",
   "execution_count": 23,
   "id": "6fd1a25c",
   "metadata": {},
   "outputs": [
    {
     "data": {
      "text/plain": [
       "label\n",
       "0    3250\n",
       "1    3250\n",
       "2    3250\n",
       "3    3250\n",
       "4    3250\n",
       "dtype: int64"
      ]
     },
     "execution_count": 23,
     "metadata": {},
     "output_type": "execute_result"
    }
   ],
   "source": [
    "df.groupby('label').size()"
   ]
  },
  {
   "cell_type": "code",
   "execution_count": 24,
   "id": "47b27eef",
   "metadata": {},
   "outputs": [],
   "source": [
    "input_shape = df['image'][0].shape"
   ]
  },
  {
   "cell_type": "code",
   "execution_count": 23,
   "id": "4b37c1ce",
   "metadata": {},
   "outputs": [],
   "source": [
    "from tensorflow.keras.applications.resnet import preprocess_input as resnet_preprocess_input\n",
    "from tensorflow.keras.applications import DenseNet121\n",
    "from tensorflow.keras.models import Sequential\n",
    "from tensorflow.keras.layers import Dense, Flatten\n",
    "\n",
    "# DenseNet121\n",
    "model = Sequential()\n",
    "model.add(DenseNet121(include_top=False, weights='imagenet', input_shape=input_shape))\n",
    "model.add(Flatten())\n",
    "model.add(Dense(512, activation='relu'))\n",
    "model.add(Dense(num_classes, activation='softmax'))"
   ]
  },
  {
   "cell_type": "code",
   "execution_count": 26,
   "id": "45f3475b",
   "metadata": {},
   "outputs": [],
   "source": [
    "from keras.optimizers import SGD\n",
    "opt = SGD(learning_rate=0.001, momentum=0.9)\n",
    "model.compile(optimizer=opt, loss='categorical_crossentropy', metrics=['accuracy'])\n",
    "\n",
    "\n",
    "# Set a learning rate annealer\n",
    "learning_rate_reduction = ReduceLROnPlateau(monitor='val_accuracy',\n",
    "                                            patience=3,\n",
    "                                            verbose=1,\n",
    "                                            factor=0.5,\n",
    "                                            min_lr=0.00001)"
   ]
  },
  {
   "cell_type": "code",
   "execution_count": 25,
   "id": "8567ab94",
   "metadata": {
    "scrolled": true
   },
   "outputs": [
    {
     "name": "stdout",
     "output_type": "stream",
     "text": [
      "Epoch 1/70\n",
      "694/694 [==============================] - 141s 166ms/step - loss: 1.3089 - accuracy: 0.4841 - val_loss: 0.9816 - val_accuracy: 0.6269 - lr: 0.0010\n",
      "Epoch 2/70\n",
      "694/694 [==============================] - 103s 149ms/step - loss: 0.8588 - accuracy: 0.6787 - val_loss: 0.7940 - val_accuracy: 0.7104 - lr: 0.0010\n",
      "Epoch 3/70\n",
      "694/694 [==============================] - 104s 150ms/step - loss: 0.5987 - accuracy: 0.7810 - val_loss: 0.6625 - val_accuracy: 0.7715 - lr: 0.0010\n",
      "Epoch 4/70\n",
      "694/694 [==============================] - 104s 149ms/step - loss: 0.4282 - accuracy: 0.8484 - val_loss: 0.5755 - val_accuracy: 0.8050 - lr: 0.0010\n",
      "Epoch 5/70\n",
      "694/694 [==============================] - 104s 149ms/step - loss: 0.3217 - accuracy: 0.8885 - val_loss: 0.5488 - val_accuracy: 0.8312 - lr: 0.0010\n",
      "Epoch 6/70\n",
      "694/694 [==============================] - 103s 149ms/step - loss: 0.2595 - accuracy: 0.9065 - val_loss: 0.6022 - val_accuracy: 0.8212 - lr: 0.0010\n",
      "Epoch 7/70\n",
      "694/694 [==============================] - 104s 150ms/step - loss: 0.2160 - accuracy: 0.9214 - val_loss: 0.6275 - val_accuracy: 0.8088 - lr: 0.0010\n",
      "Epoch 8/70\n",
      "694/694 [==============================] - 105s 151ms/step - loss: 0.1765 - accuracy: 0.9384 - val_loss: 0.5162 - val_accuracy: 0.8523 - lr: 0.0010\n",
      "Epoch 9/70\n",
      "694/694 [==============================] - 105s 151ms/step - loss: 0.1447 - accuracy: 0.9503 - val_loss: 0.4755 - val_accuracy: 0.8596 - lr: 0.0010\n",
      "Epoch 10/70\n",
      "694/694 [==============================] - 104s 150ms/step - loss: 0.1222 - accuracy: 0.9566 - val_loss: 0.5377 - val_accuracy: 0.8473 - lr: 0.0010\n",
      "Epoch 11/70\n",
      "694/694 [==============================] - 105s 151ms/step - loss: 0.1203 - accuracy: 0.9593 - val_loss: 0.4754 - val_accuracy: 0.8673 - lr: 0.0010\n",
      "Epoch 12/70\n",
      "694/694 [==============================] - 105s 152ms/step - loss: 0.0997 - accuracy: 0.9651 - val_loss: 0.4249 - val_accuracy: 0.8815 - lr: 0.0010\n",
      "Epoch 13/70\n",
      "694/694 [==============================] - 103s 149ms/step - loss: 0.0761 - accuracy: 0.9749 - val_loss: 0.4059 - val_accuracy: 0.8969 - lr: 0.0010\n",
      "Epoch 14/70\n",
      "694/694 [==============================] - 104s 149ms/step - loss: 0.0699 - accuracy: 0.9773 - val_loss: 0.4431 - val_accuracy: 0.8823 - lr: 0.0010\n",
      "Epoch 15/70\n",
      "694/694 [==============================] - 103s 148ms/step - loss: 0.0730 - accuracy: 0.9744 - val_loss: 0.5045 - val_accuracy: 0.8846 - lr: 0.0010\n",
      "Epoch 16/70\n",
      "694/694 [==============================] - ETA: 0s - loss: 0.0578 - accuracy: 0.9798\n",
      "Epoch 16: ReduceLROnPlateau reducing learning rate to 0.0005000000237487257.\n",
      "694/694 [==============================] - 102s 147ms/step - loss: 0.0578 - accuracy: 0.9798 - val_loss: 0.5332 - val_accuracy: 0.8758 - lr: 0.0010\n",
      "Epoch 17/70\n",
      "694/694 [==============================] - 103s 149ms/step - loss: 0.0355 - accuracy: 0.9877 - val_loss: 0.3450 - val_accuracy: 0.9162 - lr: 5.0000e-04\n",
      "Epoch 18/70\n",
      "694/694 [==============================] - 102s 147ms/step - loss: 0.0186 - accuracy: 0.9936 - val_loss: 0.3276 - val_accuracy: 0.9242 - lr: 5.0000e-04\n",
      "Epoch 19/70\n",
      "694/694 [==============================] - 103s 149ms/step - loss: 0.0159 - accuracy: 0.9939 - val_loss: 0.3322 - val_accuracy: 0.9238 - lr: 5.0000e-04\n",
      "Epoch 20/70\n",
      "694/694 [==============================] - 102s 148ms/step - loss: 0.0101 - accuracy: 0.9963 - val_loss: 0.2993 - val_accuracy: 0.9288 - lr: 5.0000e-04\n",
      "Epoch 21/70\n",
      "694/694 [==============================] - 103s 148ms/step - loss: 0.0091 - accuracy: 0.9973 - val_loss: 0.3074 - val_accuracy: 0.9292 - lr: 5.0000e-04\n",
      "Epoch 22/70\n",
      "694/694 [==============================] - 103s 148ms/step - loss: 0.0076 - accuracy: 0.9980 - val_loss: 0.3147 - val_accuracy: 0.9258 - lr: 5.0000e-04\n",
      "Epoch 23/70\n",
      "694/694 [==============================] - 102s 147ms/step - loss: 0.0078 - accuracy: 0.9973 - val_loss: 0.3269 - val_accuracy: 0.9277 - lr: 5.0000e-04\n",
      "Epoch 24/70\n",
      "694/694 [==============================] - ETA: 0s - loss: 0.0072 - accuracy: 0.9974\n",
      "Epoch 24: ReduceLROnPlateau reducing learning rate to 0.0002500000118743628.\n",
      "694/694 [==============================] - 105s 151ms/step - loss: 0.0072 - accuracy: 0.9974 - val_loss: 0.3384 - val_accuracy: 0.9242 - lr: 5.0000e-04\n",
      "Epoch 25/70\n",
      "694/694 [==============================] - 102s 148ms/step - loss: 0.0088 - accuracy: 0.9971 - val_loss: 0.3217 - val_accuracy: 0.9300 - lr: 2.5000e-04\n",
      "Epoch 26/70\n",
      "694/694 [==============================] - 103s 148ms/step - loss: 0.0069 - accuracy: 0.9980 - val_loss: 0.3624 - val_accuracy: 0.9238 - lr: 2.5000e-04\n",
      "Epoch 27/70\n",
      "694/694 [==============================] - 103s 149ms/step - loss: 0.0057 - accuracy: 0.9982 - val_loss: 0.3291 - val_accuracy: 0.9273 - lr: 2.5000e-04\n",
      "Epoch 28/70\n",
      "694/694 [==============================] - 102s 148ms/step - loss: 0.0038 - accuracy: 0.9986 - val_loss: 0.3227 - val_accuracy: 0.9346 - lr: 2.5000e-04\n",
      "Epoch 29/70\n",
      "694/694 [==============================] - 102s 147ms/step - loss: 0.0041 - accuracy: 0.9987 - val_loss: 0.3321 - val_accuracy: 0.9308 - lr: 2.5000e-04\n",
      "Epoch 30/70\n",
      "694/694 [==============================] - 104s 150ms/step - loss: 0.0045 - accuracy: 0.9986 - val_loss: 0.3423 - val_accuracy: 0.9296 - lr: 2.5000e-04\n",
      "Epoch 31/70\n",
      "694/694 [==============================] - ETA: 0s - loss: 0.0046 - accuracy: 0.9983\n",
      "Epoch 31: ReduceLROnPlateau reducing learning rate to 0.0001250000059371814.\n",
      "694/694 [==============================] - 103s 148ms/step - loss: 0.0046 - accuracy: 0.9983 - val_loss: 0.3388 - val_accuracy: 0.9288 - lr: 2.5000e-04\n",
      "Epoch 32/70\n",
      "694/694 [==============================] - 103s 148ms/step - loss: 0.0031 - accuracy: 0.9990 - val_loss: 0.3295 - val_accuracy: 0.9304 - lr: 1.2500e-04\n",
      "Epoch 33/70\n",
      "694/694 [==============================] - 102s 147ms/step - loss: 0.0035 - accuracy: 0.9987 - val_loss: 0.3264 - val_accuracy: 0.9288 - lr: 1.2500e-04\n",
      "Epoch 34/70\n",
      "694/694 [==============================] - ETA: 0s - loss: 0.0039 - accuracy: 0.9989\n",
      "Epoch 34: ReduceLROnPlateau reducing learning rate to 6.25000029685907e-05.\n",
      "694/694 [==============================] - 102s 147ms/step - loss: 0.0039 - accuracy: 0.9989 - val_loss: 0.3259 - val_accuracy: 0.9292 - lr: 1.2500e-04\n",
      "Epoch 35/70\n",
      "694/694 [==============================] - 105s 151ms/step - loss: 0.0039 - accuracy: 0.9985 - val_loss: 0.3237 - val_accuracy: 0.9315 - lr: 6.2500e-05\n",
      "Epoch 36/70\n",
      "694/694 [==============================] - 107s 154ms/step - loss: 0.0026 - accuracy: 0.9990 - val_loss: 0.3257 - val_accuracy: 0.9296 - lr: 6.2500e-05\n",
      "Epoch 37/70\n",
      "694/694 [==============================] - ETA: 0s - loss: 0.0016 - accuracy: 0.9996\n",
      "Epoch 37: ReduceLROnPlateau reducing learning rate to 3.125000148429535e-05.\n",
      "694/694 [==============================] - 104s 149ms/step - loss: 0.0016 - accuracy: 0.9996 - val_loss: 0.3235 - val_accuracy: 0.9315 - lr: 6.2500e-05\n",
      "Epoch 38/70\n",
      "694/694 [==============================] - 102s 147ms/step - loss: 0.0024 - accuracy: 0.9988 - val_loss: 0.3234 - val_accuracy: 0.9296 - lr: 3.1250e-05\n",
      "Epoch 39/70\n",
      "694/694 [==============================] - 102s 147ms/step - loss: 0.0027 - accuracy: 0.9990 - val_loss: 0.3224 - val_accuracy: 0.9312 - lr: 3.1250e-05\n",
      "Epoch 40/70\n",
      "694/694 [==============================] - ETA: 0s - loss: 0.0023 - accuracy: 0.9993\n",
      "Epoch 40: ReduceLROnPlateau reducing learning rate to 1.5625000742147677e-05.\n",
      "694/694 [==============================] - 102s 146ms/step - loss: 0.0023 - accuracy: 0.9993 - val_loss: 0.3191 - val_accuracy: 0.9319 - lr: 3.1250e-05\n",
      "Epoch 41/70\n",
      "694/694 [==============================] - 101s 146ms/step - loss: 0.0023 - accuracy: 0.9995 - val_loss: 0.3203 - val_accuracy: 0.9312 - lr: 1.5625e-05\n",
      "Epoch 42/70\n",
      "694/694 [==============================] - 102s 147ms/step - loss: 0.0017 - accuracy: 0.9994 - val_loss: 0.3204 - val_accuracy: 0.9319 - lr: 1.5625e-05\n",
      "Epoch 43/70\n",
      "694/694 [==============================] - ETA: 0s - loss: 0.0024 - accuracy: 0.9991\n",
      "Epoch 43: ReduceLROnPlateau reducing learning rate to 1e-05.\n",
      "694/694 [==============================] - 104s 150ms/step - loss: 0.0024 - accuracy: 0.9991 - val_loss: 0.3204 - val_accuracy: 0.9315 - lr: 1.5625e-05\n",
      "Epoch 44/70\n",
      "694/694 [==============================] - 101s 146ms/step - loss: 0.0020 - accuracy: 0.9993 - val_loss: 0.3210 - val_accuracy: 0.9312 - lr: 1.0000e-05\n",
      "Epoch 45/70\n",
      "694/694 [==============================] - 102s 146ms/step - loss: 0.0024 - accuracy: 0.9994 - val_loss: 0.3221 - val_accuracy: 0.9315 - lr: 1.0000e-05\n",
      "Epoch 46/70\n",
      "694/694 [==============================] - 102s 147ms/step - loss: 0.0035 - accuracy: 0.9989 - val_loss: 0.3212 - val_accuracy: 0.9308 - lr: 1.0000e-05\n",
      "Epoch 47/70\n",
      "694/694 [==============================] - 103s 148ms/step - loss: 0.0015 - accuracy: 0.9997 - val_loss: 0.3233 - val_accuracy: 0.9319 - lr: 1.0000e-05\n",
      "Epoch 48/70\n",
      "694/694 [==============================] - 103s 148ms/step - loss: 0.0019 - accuracy: 0.9994 - val_loss: 0.3237 - val_accuracy: 0.9304 - lr: 1.0000e-05\n",
      "Epoch 49/70\n",
      "694/694 [==============================] - 103s 149ms/step - loss: 0.0028 - accuracy: 0.9991 - val_loss: 0.3211 - val_accuracy: 0.9323 - lr: 1.0000e-05\n",
      "Epoch 50/70\n",
      "694/694 [==============================] - 102s 147ms/step - loss: 0.0021 - accuracy: 0.9992 - val_loss: 0.3210 - val_accuracy: 0.9327 - lr: 1.0000e-05\n",
      "Epoch 51/70\n",
      "694/694 [==============================] - 104s 150ms/step - loss: 0.0022 - accuracy: 0.9992 - val_loss: 0.3243 - val_accuracy: 0.9319 - lr: 1.0000e-05\n",
      "Epoch 52/70\n",
      "694/694 [==============================] - 103s 148ms/step - loss: 0.0023 - accuracy: 0.9990 - val_loss: 0.3244 - val_accuracy: 0.9319 - lr: 1.0000e-05\n",
      "Epoch 53/70\n",
      "694/694 [==============================] - 103s 148ms/step - loss: 0.0025 - accuracy: 0.9992 - val_loss: 0.3250 - val_accuracy: 0.9312 - lr: 1.0000e-05\n",
      "Epoch 54/70\n",
      "694/694 [==============================] - 104s 149ms/step - loss: 0.0023 - accuracy: 0.9989 - val_loss: 0.3217 - val_accuracy: 0.9323 - lr: 1.0000e-05\n",
      "Epoch 55/70\n",
      "694/694 [==============================] - 105s 152ms/step - loss: 0.0027 - accuracy: 0.9994 - val_loss: 0.3218 - val_accuracy: 0.9312 - lr: 1.0000e-05\n",
      "Epoch 56/70\n",
      "694/694 [==============================] - 103s 148ms/step - loss: 0.0027 - accuracy: 0.9991 - val_loss: 0.3231 - val_accuracy: 0.9315 - lr: 1.0000e-05\n",
      "Epoch 57/70\n",
      "694/694 [==============================] - 105s 151ms/step - loss: 0.0021 - accuracy: 0.9993 - val_loss: 0.3192 - val_accuracy: 0.9323 - lr: 1.0000e-05\n",
      "Epoch 58/70\n",
      "694/694 [==============================] - 107s 154ms/step - loss: 0.0024 - accuracy: 0.9993 - val_loss: 0.3183 - val_accuracy: 0.9315 - lr: 1.0000e-05\n",
      "Epoch 59/70\n",
      "694/694 [==============================] - 150s 216ms/step - loss: 0.0017 - accuracy: 0.9996 - val_loss: 0.3201 - val_accuracy: 0.9338 - lr: 1.0000e-05\n",
      "Epoch 60/70\n",
      "694/694 [==============================] - 105s 151ms/step - loss: 0.0029 - accuracy: 0.9989 - val_loss: 0.3221 - val_accuracy: 0.9323 - lr: 1.0000e-05\n",
      "Epoch 61/70\n",
      "694/694 [==============================] - 102s 147ms/step - loss: 0.0016 - accuracy: 0.9996 - val_loss: 0.3217 - val_accuracy: 0.9319 - lr: 1.0000e-05\n",
      "Epoch 62/70\n",
      "694/694 [==============================] - 103s 148ms/step - loss: 0.0027 - accuracy: 0.9990 - val_loss: 0.3249 - val_accuracy: 0.9327 - lr: 1.0000e-05\n",
      "Epoch 63/70\n",
      "694/694 [==============================] - 102s 148ms/step - loss: 0.0022 - accuracy: 0.9993 - val_loss: 0.3184 - val_accuracy: 0.9323 - lr: 1.0000e-05\n",
      "Epoch 64/70\n",
      "694/694 [==============================] - 102s 147ms/step - loss: 0.0017 - accuracy: 0.9996 - val_loss: 0.3212 - val_accuracy: 0.9315 - lr: 1.0000e-05\n",
      "Epoch 65/70\n",
      "694/694 [==============================] - 102s 148ms/step - loss: 0.0026 - accuracy: 0.9987 - val_loss: 0.3207 - val_accuracy: 0.9323 - lr: 1.0000e-05\n",
      "Epoch 66/70\n",
      "694/694 [==============================] - 102s 147ms/step - loss: 0.0020 - accuracy: 0.9992 - val_loss: 0.3212 - val_accuracy: 0.9327 - lr: 1.0000e-05\n",
      "Epoch 67/70\n",
      "694/694 [==============================] - 102s 147ms/step - loss: 0.0024 - accuracy: 0.9989 - val_loss: 0.3196 - val_accuracy: 0.9323 - lr: 1.0000e-05\n",
      "Epoch 68/70\n",
      "694/694 [==============================] - 102s 146ms/step - loss: 0.0019 - accuracy: 0.9992 - val_loss: 0.3203 - val_accuracy: 0.9327 - lr: 1.0000e-05\n",
      "Epoch 69/70\n",
      "694/694 [==============================] - 101s 146ms/step - loss: 0.0022 - accuracy: 0.9994 - val_loss: 0.3171 - val_accuracy: 0.9323 - lr: 1.0000e-05\n",
      "Epoch 70/70\n",
      "694/694 [==============================] - 101s 146ms/step - loss: 0.0020 - accuracy: 0.9992 - val_loss: 0.3200 - val_accuracy: 0.9331 - lr: 1.0000e-05\n"
     ]
    }
   ],
   "source": [
    "epochs = 70\n",
    "batch_size=15\n",
    "history = model.fit(x=x_train,\n",
    "                    y=y_train,\n",
    "                    epochs=epochs,\n",
    "                    batch_size=batch_size,\n",
    "                    validation_data=(x_validate,y_validate),\n",
    "                    callbacks=learning_rate_reduction,shuffle=True)"
   ]
  },
  {
   "cell_type": "code",
   "execution_count": 26,
   "id": "dcd86d5d",
   "metadata": {},
   "outputs": [],
   "source": [
    "model.save(\"skinDiseaseDetectionUsningCNN18.h5\")"
   ]
  },
  {
   "cell_type": "code",
   "execution_count": 27,
   "id": "e1915eb9",
   "metadata": {},
   "outputs": [
    {
     "name": "stdout",
     "output_type": "stream",
     "text": [
      "102/102 [==============================] - 13s 83ms/step - loss: 0.3683 - accuracy: 0.9222\n",
      "Testing: accuracy = 0.922154  ;  loss = 0.368263\n"
     ]
    }
   ],
   "source": [
    "loss, accuracy = model.evaluate(x_test, y_test, verbose=1)\n",
    "print(\"Testing: accuracy = %f  ;  loss = %f\" % (accuracy, loss))"
   ]
  },
  {
   "cell_type": "code",
   "execution_count": 28,
   "id": "226e8911",
   "metadata": {},
   "outputs": [
    {
     "name": "stdout",
     "output_type": "stream",
     "text": [
      "102/102 [==============================] - 7s 56ms/step\n"
     ]
    },
    {
     "data": {
      "text/plain": [
       "<Axes: >"
      ]
     },
     "execution_count": 28,
     "metadata": {},
     "output_type": "execute_result"
    },
    {
     "data": {
      "image/png": "[encoded data removed]",
      "text/plain": [
       "<Figure size 640x480 with 2 Axes>"
      ]
     },
     "metadata": {},
     "output_type": "display_data"
    }
   ],
   "source": [
    "from sklearn.metrics import confusion_matrix\n",
    "import seaborn as sns\n",
    "\n",
    "# Get the predicted probabilities for the test set\n",
    "y_pred_prob = model.predict(x_test)\n",
    "\n",
    "# Find the class with the highest probability for each sample\n",
    "y_pred = np.argmax(y_pred_prob, axis=1)\n",
    "\n",
    "# Calculate the confusion matrix\n",
    "cm = confusion_matrix(np.argmax(y_test, axis=1), y_pred)\n",
    "\n",
    "# Plot the confusion matrix using Seaborn\n",
    "sns.heatmap(cm, annot=True, cmap='Blues')"
   ]
  },
  {
   "cell_type": "code",
   "execution_count": 29,
   "id": "7162c287",
   "metadata": {},
   "outputs": [
    {
     "name": "stdout",
     "output_type": "stream",
     "text": [
      "Accuracy: 0.9222\n",
      "Precision: 0.9221\n",
      "Recall: 0.9218\n",
      "F1-score: 0.9215\n",
      "Kappa score: 0.9027\n"
     ]
    }
   ],
   "source": [
    "from sklearn.metrics import confusion_matrix, accuracy_score, precision_score, recall_score, f1_score, cohen_kappa_score\n",
    "\n",
    "# Calculate evaluation metrics\n",
    "accuracy = accuracy_score(np.argmax(y_test, axis=1), y_pred)\n",
    "precision = precision_score(np.argmax(y_test, axis=1), y_pred, average='macro')\n",
    "recall = recall_score(np.argmax(y_test, axis=1), y_pred, average='macro')\n",
    "f1 = f1_score(np.argmax(y_test, axis=1), y_pred, average='macro')\n",
    "kappa = cohen_kappa_score(np.argmax(y_test, axis=1), y_pred)\n",
    "\n",
    "print(f\"Accuracy: {accuracy:.4f}\")\n",
    "print(f\"Precision: {precision:.4f}\")\n",
    "print(f\"Recall: {recall:.4f}\")\n",
    "print(f\"F1-score: {f1:.4f}\")\n",
    "print(f\"Kappa score: {kappa:.4f}\")"
   ]
  },
  {
   "cell_type": "code",
   "execution_count": 30,
   "id": "c264b5f1",
   "metadata": {},
   "outputs": [
    {
     "data": {
      "image/png": "[encoded data removed]",
      "text/plain": [
       "<Figure size 640x480 with 1 Axes>"
      ]
     },
     "metadata": {},
     "output_type": "display_data"
    },
    {
     "data": {
      "image/png": "[encoded data removed]",
      "text/plain": [
       "<Figure size 640x480 with 1 Axes>"
      ]
     },
     "metadata": {},
     "output_type": "display_data"
    }
   ],
   "source": [
    "import matplotlib.pyplot as plt\n",
    "\n",
    "# Get training and testing accuracy and loss histories\n",
    "training_accuracy = history.history['accuracy']\n",
    "testing_accuracy = history.history['val_accuracy']\n",
    "training_loss = history.history['loss']\n",
    "testing_loss = history.history['val_loss']\n",
    "\n",
    "# Plot training and testing accuracy curves\n",
    "plt.plot(training_accuracy)\n",
    "plt.plot(testing_accuracy)\n",
    "plt.title('Training vs Testing Accuracy')\n",
    "plt.ylabel('Accuracy')\n",
    "plt.xlabel('Epoch')\n",
    "plt.legend(['Training', 'Testing'], loc='lower right')\n",
    "plt.show()\n",
    "\n",
    "# Plot training and testing loss curves\n",
    "plt.plot(training_loss)\n",
    "plt.plot(testing_loss)\n",
    "plt.title('Training vs Testing Loss')\n",
    "plt.ylabel('Loss')\n",
    "plt.xlabel('Epoch')\n",
    "plt.legend(['Training', 'Testing'], loc='upper right')\n",
    "plt.show()"
   ]
  },
  {
   "cell_type": "code",
   "execution_count": 31,
   "id": "77490e76",
   "metadata": {},
   "outputs": [],
   "source": [
    "from tensorflow.keras.models import load_model\n",
    "\n",
    "model_path = 'skinDiseaseDetectionUsningCNN5.h5'\n",
    "  # Replace with the actual path to your model file\n",
    "\n",
    "model = load_model(model_path)"
   ]
  },
  {
   "cell_type": "code",
   "execution_count": 29,
   "id": "b561f086",
   "metadata": {},
   "outputs": [
    {
     "name": "stdout",
     "output_type": "stream",
     "text": [
      "102/102 [==============================] - 2s 16ms/step - loss: 1.3205 - accuracy: 0.4600\n",
      "Testing: accuracy = 0.460000  ;  loss = 1.320471\n"
     ]
    }
   ],
   "source": [
    "loss, accuracy = model.evaluate(x_test, y_test, verbose=1)\n",
    "print(\"Testing: accuracy = %f  ;  loss = %f\" % (accuracy, loss))"
   ]
  },
  {
   "cell_type": "code",
   "execution_count": null,
   "id": "4444f460",
   "metadata": {},
   "outputs": [],
   "source": []
  }
 ],
 "metadata": {
  "kernelspec": {
   "display_name": "Python 3 (ipykernel)",
   "language": "python",
   "name": "python3"
  },
  "language_info": {
   "codemirror_mode": {
    "name": "ipython",
    "version": 3
   },
   "file_extension": ".py",
   "mimetype": "text/x-python",
   "name": "python",
   "nbconvert_exporter": "python",
   "pygments_lexer": "ipython3",
   "version": "3.9.16"
  }
 },
 "nbformat": 4,
 "nbformat_minor": 5
}
